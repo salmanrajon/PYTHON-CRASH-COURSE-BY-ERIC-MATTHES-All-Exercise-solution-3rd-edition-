{
  "nbformat": 4,
  "nbformat_minor": 0,
  "metadata": {
    "colab": {
      "provenance": []
    },
    "kernelspec": {
      "name": "python3",
      "display_name": "Python 3"
    },
    "language_info": {
      "name": "python"
    }
  },
  "cells": [
    {
      "cell_type": "code",
      "execution_count": null,
      "metadata": {
        "id": "Cr8eMuFguQG4",
        "colab": {
          "base_uri": "https://localhost:8080/"
        },
        "outputId": "46673cd7-98a0-4f93-9b1a-da3a6226e914"
      },
      "outputs": [
        {
          "output_type": "execute_result",
          "data": {
            "text/plain": [
              "False"
            ]
          },
          "metadata": {},
          "execution_count": 2
        }
      ],
      "source": [
        "car = 'AUDI'\n",
        "car == 'BMW'\n"
      ]
    },
    {
      "cell_type": "code",
      "source": [
        "car = 'Audi'\n",
        "print(f\"The name of the car is {car}.\")"
      ],
      "metadata": {
        "colab": {
          "base_uri": "https://localhost:8080/"
        },
        "id": "hkjalrjf5CpW",
        "outputId": "9b2632f4-91f1-46ff-f1c8-9d6779d4cd4f"
      },
      "execution_count": null,
      "outputs": [
        {
          "output_type": "stream",
          "name": "stdout",
          "text": [
            "The name of the car is Audi.\n"
          ]
        }
      ]
    },
    {
      "cell_type": "code",
      "source": [
        "answer = 17\n",
        "if answer != 16:\n",
        "  print(\"Wrong Answer!\")"
      ],
      "metadata": {
        "colab": {
          "base_uri": "https://localhost:8080/"
        },
        "id": "TpU5p3CT6GGG",
        "outputId": "b1d3a9d8-fb65-40c9-fe87-90a1f4263c44"
      },
      "execution_count": null,
      "outputs": [
        {
          "output_type": "stream",
          "name": "stdout",
          "text": [
            "Wrong Answer!\n"
          ]
        }
      ]
    },
    {
      "cell_type": "code",
      "source": [
        "age = 19\n",
        "age < 21"
      ],
      "metadata": {
        "colab": {
          "base_uri": "https://localhost:8080/"
        },
        "id": "I1SSbH-76jd9",
        "outputId": "f5fbf90c-5cce-4790-ef66-b7dd66d48a25"
      },
      "execution_count": null,
      "outputs": [
        {
          "output_type": "execute_result",
          "data": {
            "text/plain": [
              "True"
            ]
          },
          "metadata": {},
          "execution_count": 10
        }
      ]
    },
    {
      "cell_type": "code",
      "source": [
        "name = input(\"Enter name: \")\n",
        "age = int(input(\"Enter age:\"))\n",
        "if age >= 18:\n",
        "  print(f\"{name}, you are {age}.\\nYou old enough to vote!\")"
      ],
      "metadata": {
        "colab": {
          "base_uri": "https://localhost:8080/"
        },
        "id": "KDmgWXPJ7Xbk",
        "outputId": "efdc7cc3-2ade-4532-a9b9-4a7f135f2267"
      },
      "execution_count": null,
      "outputs": [
        {
          "output_type": "stream",
          "name": "stdout",
          "text": [
            "Enter name: Aman\n",
            "Enter age:25\n",
            "Aman, you are 25.\n",
            "You old enough to vote!\n"
          ]
        }
      ]
    },
    {
      "cell_type": "code",
      "source": [
        "age = 17\n",
        "if age >= 18:\n",
        "  print(\"You are old enough to vote. \\nHave you registered to vote yet?\")\n",
        "else:\n",
        "  print(\"Sorry! You are not eligible for vote.\")\n"
      ],
      "metadata": {
        "colab": {
          "base_uri": "https://localhost:8080/"
        },
        "id": "KR77hKUV6tiq",
        "outputId": "febe92ac-4cd6-475f-8b1d-a8d9b2296f4e"
      },
      "execution_count": null,
      "outputs": [
        {
          "output_type": "stream",
          "name": "stdout",
          "text": [
            "Sorry! You are not eligible for vote.\n"
          ]
        }
      ]
    },
    {
      "cell_type": "code",
      "source": [
        "age = 12\n",
        "if age < 4:\n",
        "  price = 0\n",
        "elif age < 18:\n",
        "  price = 25\n",
        "elif age < 65:\n",
        "  price = 40\n",
        "elif age >= 65:\n",
        "  price = 30\n",
        "\n",
        "print(f\"Your ticket price is €{price}.\")\n"
      ],
      "metadata": {
        "colab": {
          "base_uri": "https://localhost:8080/"
        },
        "id": "WMofjyXp-hcB",
        "outputId": "f563ac6a-4704-41cd-cc1a-e40b0259ddaf"
      },
      "execution_count": null,
      "outputs": [
        {
          "output_type": "stream",
          "name": "stdout",
          "text": [
            "Your ticket price is €25'.\n"
          ]
        }
      ]
    },
    {
      "cell_type": "code",
      "source": [
        "Healthy_Foods = ['Milk','Egg','Carrot','Cucumber','Garlic']\n",
        "'Egg' in Healthy_Foods"
      ],
      "metadata": {
        "colab": {
          "base_uri": "https://localhost:8080/"
        },
        "id": "rVc6DeY0ottf",
        "outputId": "85f4620a-b861-4c9e-ece4-94cb204eca8a"
      },
      "execution_count": null,
      "outputs": [
        {
          "output_type": "execute_result",
          "data": {
            "text/plain": [
              "True"
            ]
          },
          "metadata": {},
          "execution_count": 7
        }
      ]
    },
    {
      "cell_type": "code",
      "source": [
        "Healthy_Foods = ['Milk','Egg','Carrot','Cucumber','Garlic']\n",
        "'coke' in Healthy_Foods"
      ],
      "metadata": {
        "colab": {
          "base_uri": "https://localhost:8080/"
        },
        "id": "ZDm0NCm5qeVl",
        "outputId": "92b95cb1-0e86-448d-82fe-518c58cac81a"
      },
      "execution_count": null,
      "outputs": [
        {
          "output_type": "execute_result",
          "data": {
            "text/plain": [
              "False"
            ]
          },
          "metadata": {},
          "execution_count": 8
        }
      ]
    },
    {
      "cell_type": "code",
      "source": [
        "Restricted_Age = 18\n",
        "Restricted_Age == 17"
      ],
      "metadata": {
        "colab": {
          "base_uri": "https://localhost:8080/"
        },
        "id": "g_3t3rTSqrMA",
        "outputId": "a9bfee90-626f-4dd7-b300-d2684938addc"
      },
      "execution_count": null,
      "outputs": [
        {
          "output_type": "execute_result",
          "data": {
            "text/plain": [
              "False"
            ]
          },
          "metadata": {},
          "execution_count": 11
        }
      ]
    },
    {
      "cell_type": "code",
      "source": [
        "Relegated_Teams = ['Arsenal', 'Chelsea', 'Man_City']\n",
        "'MANU' not in Relegated_Teams"
      ],
      "metadata": {
        "colab": {
          "base_uri": "https://localhost:8080/"
        },
        "id": "3UeabUILr013",
        "outputId": "2d59eb4d-ec97-4e0e-bdff-6c0d8282cad5"
      },
      "execution_count": null,
      "outputs": [
        {
          "output_type": "execute_result",
          "data": {
            "text/plain": [
              "True"
            ]
          },
          "metadata": {},
          "execution_count": 12
        }
      ]
    },
    {
      "cell_type": "code",
      "source": [
        "Relegated_Teams = ['Arsenal', 'Chelsea', 'Man_City']\n",
        "'Chelsea' not in Relegated_Teams"
      ],
      "metadata": {
        "colab": {
          "base_uri": "https://localhost:8080/"
        },
        "id": "A3Xao35qsOT-",
        "outputId": "5413fd5d-f095-453a-8e65-03c05ad43b33"
      },
      "execution_count": null,
      "outputs": [
        {
          "output_type": "execute_result",
          "data": {
            "text/plain": [
              "False"
            ]
          },
          "metadata": {},
          "execution_count": 13
        }
      ]
    },
    {
      "cell_type": "code",
      "source": [
        "username = 'rajon'\n",
        "password = '1234Dora'\n",
        "\n",
        "username == 'rajon' and password == '1234Dora'\n"
      ],
      "metadata": {
        "id": "LeJTJTHusUIl",
        "colab": {
          "base_uri": "https://localhost:8080/"
        },
        "outputId": "65df612f-4762-45c4-fc29-6e351f7f8956"
      },
      "execution_count": null,
      "outputs": [
        {
          "output_type": "execute_result",
          "data": {
            "text/plain": [
              "True"
            ]
          },
          "metadata": {},
          "execution_count": 14
        }
      ]
    },
    {
      "cell_type": "code",
      "source": [
        "sunny = 10\n",
        "\n",
        "if sunny == True:\n",
        "  print(\"Go for cycling.\")\n",
        "else:\n",
        "  print(\"Do your homework!\")"
      ],
      "metadata": {
        "colab": {
          "base_uri": "https://localhost:8080/"
        },
        "id": "vhc22arDiZK_",
        "outputId": "aee9776c-54ab-41f6-d6d1-3ed9b8150951"
      },
      "execution_count": null,
      "outputs": [
        {
          "output_type": "stream",
          "name": "stdout",
          "text": [
            "Do your homework!\n"
          ]
        }
      ]
    },
    {
      "cell_type": "code",
      "source": [
        "#Checking if Ron is older than Jon\n",
        "Ron = 16\n",
        "Jon = 14\n",
        "\n",
        "Ron==Jon"
      ],
      "metadata": {
        "colab": {
          "base_uri": "https://localhost:8080/"
        },
        "id": "aOyv4vqUj524",
        "outputId": "2e2889a0-8893-4978-c433-91df676f33b1"
      },
      "execution_count": null,
      "outputs": [
        {
          "output_type": "execute_result",
          "data": {
            "text/plain": [
              "False"
            ]
          },
          "metadata": {},
          "execution_count": 25
        }
      ]
    },
    {
      "cell_type": "code",
      "source": [
        "#EX 5-2 Equalitly and inequality with strings.\n",
        "Ron_age = 40\n",
        "Lebron_age = 45\n",
        "\n",
        "if Ron_age>Lebron_age:\n",
        "  print(f\"Ron is {Ron_age}, so Ron is older.\")\n",
        "else:\n",
        "  print(f\"Lebron is {Lebron_age}, so Lebron is older.\")"
      ],
      "metadata": {
        "colab": {
          "base_uri": "https://localhost:8080/"
        },
        "id": "-TiGGtmfl819",
        "outputId": "154e205f-9ea0-450d-f522-fb28f3e6e646"
      },
      "execution_count": null,
      "outputs": [
        {
          "output_type": "stream",
          "name": "stdout",
          "text": [
            "Lebron is 45, so Lebron is older.\n"
          ]
        }
      ]
    },
    {
      "cell_type": "code",
      "source": [
        "#using .lower() method.\n",
        "\n",
        "Good_Food = 'Egg'\n",
        "Good_Food.lower() == 'egg'\n"
      ],
      "metadata": {
        "colab": {
          "base_uri": "https://localhost:8080/"
        },
        "id": "iuheZ2KJqIy5",
        "outputId": "4827f296-1c26-4337-914e-442f389b114b"
      },
      "execution_count": null,
      "outputs": [
        {
          "output_type": "execute_result",
          "data": {
            "text/plain": [
              "True"
            ]
          },
          "metadata": {},
          "execution_count": 40
        }
      ]
    },
    {
      "cell_type": "code",
      "source": [
        "Healthy_Foods = ['Milk','Egg','Carrot','Cucumber','Garlic']\n",
        "'egg' in Healthy_Foods.lower()\n"
      ],
      "metadata": {
        "colab": {
          "base_uri": "https://localhost:8080/",
          "height": 158
        },
        "id": "KRyiBth9sOPl",
        "outputId": "34c55dd9-4d41-4d78-fd08-8bbc8b657bf2"
      },
      "execution_count": null,
      "outputs": [
        {
          "output_type": "error",
          "ename": "AttributeError",
          "evalue": "'list' object has no attribute 'lower'",
          "traceback": [
            "\u001b[0;31m---------------------------------------------------------------------------\u001b[0m",
            "\u001b[0;31mAttributeError\u001b[0m                            Traceback (most recent call last)",
            "\u001b[0;32m<ipython-input-43-527e089b08b1>\u001b[0m in \u001b[0;36m<cell line: 2>\u001b[0;34m()\u001b[0m\n\u001b[1;32m      1\u001b[0m \u001b[0mHealthy_Foods\u001b[0m \u001b[0;34m=\u001b[0m \u001b[0;34m[\u001b[0m\u001b[0;34m'Milk'\u001b[0m\u001b[0;34m,\u001b[0m\u001b[0;34m'Egg'\u001b[0m\u001b[0;34m,\u001b[0m\u001b[0;34m'Carrot'\u001b[0m\u001b[0;34m,\u001b[0m\u001b[0;34m'Cucumber'\u001b[0m\u001b[0;34m,\u001b[0m\u001b[0;34m'Garlic'\u001b[0m\u001b[0;34m]\u001b[0m\u001b[0;34m\u001b[0m\u001b[0;34m\u001b[0m\u001b[0m\n\u001b[0;32m----> 2\u001b[0;31m \u001b[0;34m'egg'\u001b[0m \u001b[0;32min\u001b[0m \u001b[0mHealthy_Foods\u001b[0m\u001b[0;34m.\u001b[0m\u001b[0mlower\u001b[0m\u001b[0;34m(\u001b[0m\u001b[0;34m)\u001b[0m\u001b[0;34m\u001b[0m\u001b[0;34m\u001b[0m\u001b[0m\n\u001b[0m",
            "\u001b[0;31mAttributeError\u001b[0m: 'list' object has no attribute 'lower'"
          ]
        }
      ]
    },
    {
      "cell_type": "markdown",
      "source": [
        "The error message AttributeError: 'list' object has no attribute 'lower' indicates that the lower() method is not applicable to a list object. To check if an element exists in a list, use the in operator."
      ],
      "metadata": {
        "id": "3fiVlaKitUg0"
      }
    },
    {
      "cell_type": "code",
      "source": [
        "#Numerical test >, <, =, >=, <= !=\n",
        "a = 5\n",
        "b = 6\n",
        "c = 8\n",
        "d = 6\n",
        "e = 10\n",
        "\n",
        "d >= b"
      ],
      "metadata": {
        "colab": {
          "base_uri": "https://localhost:8080/"
        },
        "id": "Wmx19yUK1hIs",
        "outputId": "c3a69078-7c5d-4520-8bca-7a4c5a85bcf2"
      },
      "execution_count": null,
      "outputs": [
        {
          "output_type": "execute_result",
          "data": {
            "text/plain": [
              "True"
            ]
          },
          "metadata": {},
          "execution_count": 50
        }
      ]
    },
    {
      "cell_type": "code",
      "source": [
        "#inequality\n",
        "Answer = 45\n",
        "Answer != 54\n",
        "  #print(\"Correct answer.\")"
      ],
      "metadata": {
        "colab": {
          "base_uri": "https://localhost:8080/"
        },
        "id": "vNQOXhPX2yGy",
        "outputId": "7c4a12cf-0374-497c-860e-2ee76a416376"
      },
      "execution_count": null,
      "outputs": [
        {
          "output_type": "execute_result",
          "data": {
            "text/plain": [
              "True"
            ]
          },
          "metadata": {},
          "execution_count": 56
        }
      ]
    },
    {
      "cell_type": "code",
      "source": [
        "#and #or\n",
        "age_1 = 35\n",
        "age_2 = 32\n",
        "(age_1< 30) or (age_2 <= 30)\n"
      ],
      "metadata": {
        "colab": {
          "base_uri": "https://localhost:8080/"
        },
        "id": "GpGZUmsl4Qjj",
        "outputId": "462a00ab-285e-43bd-ae66-dcb1dc2a11f1"
      },
      "execution_count": null,
      "outputs": [
        {
          "output_type": "execute_result",
          "data": {
            "text/plain": [
              "False"
            ]
          },
          "metadata": {},
          "execution_count": 62
        }
      ]
    },
    {
      "cell_type": "code",
      "source": [
        "#in #not_in\n",
        "Healthy_Foods = ['Milk','Egg','Carrot','Cucumber','Garlic']\n",
        "'Egg' in Healthy_Foods"
      ],
      "metadata": {
        "colab": {
          "base_uri": "https://localhost:8080/"
        },
        "id": "W0wNslCW4_WH",
        "outputId": "dd4446b3-ec37-4783-ad89-40797039a95f"
      },
      "execution_count": null,
      "outputs": [
        {
          "output_type": "execute_result",
          "data": {
            "text/plain": [
              "True"
            ]
          },
          "metadata": {},
          "execution_count": 66
        }
      ]
    },
    {
      "cell_type": "code",
      "source": [
        "requested_toppings = ['mushrooms', 'pepperoni', 'cheese' ]\n",
        "if 'mushrooms' in requested_toppings:\n",
        "  print(\"Adding Mushrooms.\")\n",
        "if 'cheese' in requested_toppings:\n",
        "  print(\"Adding Cheese.\")\n",
        "if 'anchovis' in requested_toppings:\n",
        "  print(\"Adding Anchovies.\")\n",
        "\n",
        "print(\"\\nFinished making your Pizza!\")"
      ],
      "metadata": {
        "colab": {
          "base_uri": "https://localhost:8080/"
        },
        "id": "Lj7YPPW_l50Q",
        "outputId": "117379d6-52ee-4e9c-aa0d-9fa45b122337"
      },
      "execution_count": null,
      "outputs": [
        {
          "output_type": "stream",
          "name": "stdout",
          "text": [
            "Adding Mushrooms.\n",
            "Adding Cheese.\n",
            "\n",
            "Finished making your Pizza!\n"
          ]
        }
      ]
    },
    {
      "cell_type": "code",
      "source": [
        "#5-3 Alien Colors#1\n",
        "alien_color = 'green'\n",
        "if alien_color == 'green':\n",
        "  print(\"You earned 5 pints.\")"
      ],
      "metadata": {
        "colab": {
          "base_uri": "https://localhost:8080/"
        },
        "id": "JqIz_CRlotOZ",
        "outputId": "be22b6fd-c099-4b2d-b5ac-d70e16309dd5"
      },
      "execution_count": null,
      "outputs": [
        {
          "output_type": "stream",
          "name": "stdout",
          "text": [
            "You earned 5 pints.\n"
          ]
        }
      ]
    },
    {
      "cell_type": "code",
      "source": [
        "alien_color = 'red'\n",
        "if alien_color == 'green':\n",
        "  print(\"You earned 5 pints.\")"
      ],
      "metadata": {
        "id": "w5GHX_1gpspO"
      },
      "execution_count": null,
      "outputs": []
    },
    {
      "cell_type": "code",
      "source": [
        "#5-4 Alien Colors#2\n",
        "alien_color = 'x'\n",
        "if alien_color == 'green':\n",
        "  print(\"You earned 5 pints.\")\n",
        "else:\n",
        "  print(\"You earned 10 points.\\nWOW!\")"
      ],
      "metadata": {
        "colab": {
          "base_uri": "https://localhost:8080/"
        },
        "id": "S1MD9nNbp-TN",
        "outputId": "e0083f8a-2a6b-44b3-da98-e8b0047acaa9"
      },
      "execution_count": null,
      "outputs": [
        {
          "output_type": "stream",
          "name": "stdout",
          "text": [
            "You earned 10 points.\n",
            "WOW!\n"
          ]
        }
      ]
    },
    {
      "cell_type": "code",
      "source": [
        "alien_color = 'red'\n",
        "if alien_color == 'red':\n",
        "  print(\"5 Points.\")\n",
        "else:\n",
        "  print(\"You earned 10 points.\")"
      ],
      "metadata": {
        "colab": {
          "base_uri": "https://localhost:8080/"
        },
        "id": "i88ByGCzqarV",
        "outputId": "e37da4b0-5a54-4d9f-a266-0ee97e45ee28"
      },
      "execution_count": null,
      "outputs": [
        {
          "output_type": "stream",
          "name": "stdout",
          "text": [
            "5 Points.\n"
          ]
        }
      ]
    },
    {
      "cell_type": "code",
      "source": [
        "#5-5 Alien colors#3\n",
        "alien_color = 'red'\n",
        "\n",
        "if alien_color == 'red':\n",
        "  print(\"5 Points.\")\n",
        "elif alien_color == 'green':\n",
        "  print(\"10 points!\")\n",
        "else:\n",
        "  print(f\"{alien_color}. 20 Points.\\nWOW!\")"
      ],
      "metadata": {
        "colab": {
          "base_uri": "https://localhost:8080/"
        },
        "id": "nyMDKBqGrNx7",
        "outputId": "76bafa95-151d-46cb-b460-7eb23e2ccdd1"
      },
      "execution_count": null,
      "outputs": [
        {
          "output_type": "stream",
          "name": "stdout",
          "text": [
            "5 Points.\n"
          ]
        }
      ]
    },
    {
      "cell_type": "code",
      "source": [
        "alien_color = 'green'\n",
        "\n",
        "if alien_color == 'red':\n",
        "  print(\"5 Points.\")\n",
        "elif alien_color == 'green':\n",
        "  print(\"10 points!\")\n",
        "else:\n",
        "  print(f\"{alien_color}. 20 Points.\\nWOW!\")"
      ],
      "metadata": {
        "colab": {
          "base_uri": "https://localhost:8080/"
        },
        "id": "f935vSuVtL6-",
        "outputId": "33896055-e115-4e97-d06c-1f6160afd3ea"
      },
      "execution_count": null,
      "outputs": [
        {
          "output_type": "stream",
          "name": "stdout",
          "text": [
            "10 points!\n"
          ]
        }
      ]
    },
    {
      "cell_type": "code",
      "source": [
        "alien_color = 'Black'\n",
        "if alien_color == 'red':\n",
        "  print(\"5 points\")\n",
        "elif alien_color == 'green':\n",
        "  print(\"10 pints\")\n",
        "else:\n",
        "  print(\"You earned 20 points.\\nGreat!\")"
      ],
      "metadata": {
        "colab": {
          "base_uri": "https://localhost:8080/"
        },
        "id": "8ZNEZ5e9t5Jp",
        "outputId": "d16c4286-612c-4806-a253-3cc497050c11"
      },
      "execution_count": null,
      "outputs": [
        {
          "output_type": "stream",
          "name": "stdout",
          "text": [
            "You earned 20 points.\n",
            "Great!\n"
          ]
        }
      ]
    },
    {
      "cell_type": "code",
      "source": [
        "#5-6 Steges of life\n",
        "age = int(input(\"Enter the age: \"))\n",
        "if age < 2:\n",
        "  print(\"It's a Baby!\")\n",
        "elif age < 4:\n",
        "  print(\"It,s a Toddler!\")\n",
        "elif age < 13:\n",
        "  print(\"It's a Kid.\")\n",
        "elif age < 20:\n",
        "  print(\"The person is a Teenager!\")\n",
        "elif age < 65:\n",
        "  print(\"The person is an Adult.\")\n",
        "else:\n",
        "  print(\"This person is old.\")\n"
      ],
      "metadata": {
        "colab": {
          "base_uri": "https://localhost:8080/"
        },
        "id": "XWREyW_7ufzc",
        "outputId": "3ce101d4-89c2-420c-ef4d-a47bbedb0848"
      },
      "execution_count": null,
      "outputs": [
        {
          "output_type": "stream",
          "name": "stdout",
          "text": [
            "Enter the age: 19\n",
            "The person is a Teenager!\n"
          ]
        }
      ]
    },
    {
      "cell_type": "code",
      "source": [
        "#5-7 Favourite Fruit\n",
        "fav_fruit = ['Apple', 'Mango', 'Banana', 'Melon']\n",
        "if 'Apple' in fav_fruit:\n",
        "  print(\"Oh, You like Apples!\")\n",
        "if 'Mango' in fav_fruit:\n",
        "  print(\"I like Mangoes too!\")\n",
        "if 'Strawberry' in fav_fruit:\n",
        "  print(\"Ohh\")\n",
        "if 'Banana' in fav_fruit:\n",
        "  print(\"Banana, Thats super healthy.\")\n",
        "if 'Melon' in fav_fruit:\n",
        "  print(\"Melon is so good!\")\n",
        "if 'Pineapple' in fav_fruit:\n",
        "  print(\"Hmmm\")"
      ],
      "metadata": {
        "colab": {
          "base_uri": "https://localhost:8080/"
        },
        "id": "rOmO_pfLxMes",
        "outputId": "122de4f6-7364-495e-8e7b-e3c2bc7e1062"
      },
      "execution_count": null,
      "outputs": [
        {
          "output_type": "stream",
          "name": "stdout",
          "text": [
            "Oh, You like Apples!\n",
            "I like Mangoes too!\n",
            "Banana, Thats super healthy.\n",
            "Melon is so good!\n"
          ]
        }
      ]
    },
    {
      "cell_type": "code",
      "source": [
        "requested_toppings = ['mushrooms', 'cheese', 'olive']\n",
        "for requested_topping in requested_toppings:\n",
        "  print(f\"Adding {requested_topping}....\")\n",
        "\n",
        "print(\"Finished making your Pizza.\")"
      ],
      "metadata": {
        "colab": {
          "base_uri": "https://localhost:8080/"
        },
        "id": "8MaUTO6Swxwk",
        "outputId": "34d70990-ab98-4480-ff0d-2fd978eda423"
      },
      "execution_count": null,
      "outputs": [
        {
          "output_type": "stream",
          "name": "stdout",
          "text": [
            "Adding mushrooms....\n",
            "Adding cheese....\n",
            "Adding olive....\n",
            "Just the crust!\n",
            "Finished making your Pizza.\n"
          ]
        }
      ]
    },
    {
      "cell_type": "code",
      "source": [
        "requested_toppings = ['mushroom', 'onion','cheese', 'olive']\n",
        "\n",
        "for requested_topping in requested_toppings:\n",
        "  if requested_topping == 'onion':\n",
        "    print(\"Sorry, we ran out of Onions.\")\n",
        "  else:\n",
        "    print(f\"Adding {requested_topping}....\")\n",
        "\n",
        "print(\"Finished making your Pizza!\")"
      ],
      "metadata": {
        "colab": {
          "base_uri": "https://localhost:8080/"
        },
        "id": "JGwPHu-qyBId",
        "outputId": "39ee687a-e181-4e41-8b7d-127a2988db14"
      },
      "execution_count": null,
      "outputs": [
        {
          "output_type": "stream",
          "name": "stdout",
          "text": [
            "Adding mushroom....\n",
            "Sorry, we ran out of Onions.\n",
            "Adding cheese....\n",
            "Adding olive....\n",
            "Finished making your Pizza!\n"
          ]
        }
      ]
    },
    {
      "cell_type": "code",
      "source": [
        "requested_toppings =[]\n",
        "if requested_toppings:                          #Checking if the list is empty.\n",
        "  for requested_topping in requested_toppings:\n",
        "    print(f\"Adding {requested_topping}....\")\n",
        "else:\n",
        "  print(\"Just the crust!\")\n",
        "\n",
        "print(\"Your Pizza is ready.\")"
      ],
      "metadata": {
        "colab": {
          "base_uri": "https://localhost:8080/"
        },
        "id": "UORSarv9zjyT",
        "outputId": "bdcdaed8-b854-4034-ce4d-4673d1c96b48"
      },
      "execution_count": null,
      "outputs": [
        {
          "output_type": "stream",
          "name": "stdout",
          "text": [
            "Just the crust!\n",
            "Your Pizza is ready.\n"
          ]
        }
      ]
    },
    {
      "cell_type": "code",
      "source": [
        "available_toppings = ['olive', 'cheese', 'tomato', 'pineapple', 'mushrooms']\n",
        "requested_toppings = ['olive', 'peppers', 'french fries','mushrooms']\n",
        "\n",
        "for requested_topping in requested_toppings:\n",
        "  if requested_topping in available_toppings:\n",
        "    print(f\"Adding {requested_topping}...\")\n",
        "  else:\n",
        "    print(f\"Sorry, we don't have {requested_topping}.\")\n",
        "    #print(f\"We don't have {requested_topping} either.\")\n",
        "\n",
        "print(\"Your Pizza is ready.\")"
      ],
      "metadata": {
        "colab": {
          "base_uri": "https://localhost:8080/"
        },
        "id": "v45sqfu-222i",
        "outputId": "06a9ecf2-4fdd-4601-81a3-eadd9a8991e1"
      },
      "execution_count": null,
      "outputs": [
        {
          "output_type": "stream",
          "name": "stdout",
          "text": [
            "Adding olive...\n",
            "Sorry, we don't have peppers.\n",
            "Sorry, we don't have french fries.\n",
            "Adding mushrooms...\n",
            "Your Pizza is ready.\n"
          ]
        }
      ]
    },
    {
      "cell_type": "code",
      "source": [
        "#5-8 Hello Admin\n",
        "user_list = ['admin', 'rajon', 'dora', 'cheetah', 'liza', 'xyz']\n",
        "\n",
        "for user in user_list:\n",
        "  if user == 'admin':\n",
        "    print(f\"Hello {user.title()}. Welcome to the server. Would you like to make any changes.\")\n",
        "  else:\n",
        "    print(f\"Hello {user}. Welcome to the server.\")\n"
      ],
      "metadata": {
        "colab": {
          "base_uri": "https://localhost:8080/"
        },
        "id": "0MgkmOr8BSZS",
        "outputId": "37634a7a-fe3e-4acf-ad54-c25d93909d01"
      },
      "execution_count": null,
      "outputs": [
        {
          "output_type": "stream",
          "name": "stdout",
          "text": [
            "Hello Admin. Welcome to the server. Would you like to make any changes.\n",
            "Hello rajon. Welcome to the server.\n",
            "Hello dora. Welcome to the server.\n",
            "Hello cheetah. Welcome to the server.\n",
            "Hello liza. Welcome to the server.\n",
            "Hello xyz. Welcome to the server.\n"
          ]
        }
      ]
    },
    {
      "cell_type": "code",
      "source": [
        "#5-9 Empty List\n",
        "user_list = []\n",
        "if user in user_list:\n",
        "  for user in user_list:\n",
        "    if user == 'admin':\n",
        "      print(f\"Hello {user.title()}. Welcome to the server. Would you like to make any changes.\")\n",
        "    else:\n",
        "      print(f\"Hello {user}. Welcome to the server.\")\n",
        "else:\n",
        "  print(\"We need to find some users. We are empty.\")\n"
      ],
      "metadata": {
        "colab": {
          "base_uri": "https://localhost:8080/"
        },
        "id": "dLckZO1_Dj66",
        "outputId": "2119a927-b9b9-43e7-8a14-75ea00cc1022"
      },
      "execution_count": null,
      "outputs": [
        {
          "output_type": "stream",
          "name": "stdout",
          "text": [
            "We need to find some users. We are empty.\n"
          ]
        }
      ]
    },
    {
      "cell_type": "code",
      "source": [
        "#5-10 Checking Username\n",
        "current_list = ['admin', 'rajon', 'dora', 'cheetah', 'liza']\n",
        "new_list = ['black', 'golu', 'xyz', 'Liza', 'DORA']\n",
        "\n",
        "for user in new_list:\n",
        "  if user.lower() in current_list:\n",
        "    print(f\"{user} already taken. Choose a new username\")\n",
        "  else:\n",
        "    print(f\"{user}. this username is available.\")"
      ],
      "metadata": {
        "colab": {
          "base_uri": "https://localhost:8080/"
        },
        "id": "q4EiIpdrE2Cy",
        "outputId": "0010f253-bcff-4f2a-8f7e-0ab5a9778372"
      },
      "execution_count": null,
      "outputs": [
        {
          "output_type": "stream",
          "name": "stdout",
          "text": [
            "black. this username is available.\n",
            "golu. this username is available.\n",
            "xyz. this username is available.\n",
            "Liza already taken. Choose a new username\n",
            "DORA already taken. Choose a new username\n"
          ]
        }
      ]
    },
    {
      "cell_type": "code",
      "source": [
        "#5-11 Ordinal Numbers\n",
        "numbers = [1,2,3,4,5,6,7,8,9,10]\n",
        "for x in numbers:\n",
        "  if x == 1:\n",
        "    print(f\"{x}st\")\n",
        "  elif x == 2:\n",
        "    print(f\"{x}nd\")\n",
        "  elif x  == 3:\n",
        "    print(f\"{x}rd\")\n",
        "  else:\n",
        "    print(f\"{x}th\")\n"
      ],
      "metadata": {
        "colab": {
          "base_uri": "https://localhost:8080/"
        },
        "id": "eyWaEMszHdPr",
        "outputId": "3cb59df4-720f-4603-e673-2d3673c8122c"
      },
      "execution_count": null,
      "outputs": [
        {
          "output_type": "stream",
          "name": "stdout",
          "text": [
            "1st\n",
            "2nd\n",
            "3rd\n",
            "4th\n",
            "5th\n",
            "6th\n",
            "7th\n",
            "8th\n",
            "9th\n",
            "10th\n"
          ]
        }
      ]
    }
  ]
}